{
  "nbformat": 4,
  "nbformat_minor": 0,
  "metadata": {
    "colab": {
      "provenance": []
    },
    "kernelspec": {
      "name": "python3",
      "display_name": "Python 3"
    },
    "language_info": {
      "name": "python"
    }
  },
  "cells": [
    {
      "cell_type": "code",
      "execution_count": 1,
      "metadata": {
        "colab": {
          "base_uri": "https://localhost:8080/"
        },
        "id": "X9_zradjEKki",
        "outputId": "1543b95f-8057-4780-eea6-1e994f850967"
      },
      "outputs": [
        {
          "output_type": "stream",
          "name": "stdout",
          "text": [
            "    Unnamed: 0  cgpa   iq  placement\n",
            "0            0   6.8  123          1\n",
            "1            1   5.9  106          0\n",
            "2            2   5.3  121          0\n",
            "3            3   7.4  132          1\n",
            "4            4   5.8  142          0\n",
            "..         ...   ...  ...        ...\n",
            "95          95   4.3  200          0\n",
            "96          96   4.4   42          0\n",
            "97          97   6.7  182          1\n",
            "98          98   6.3  103          1\n",
            "99          99   6.2  113          1\n",
            "\n",
            "[100 rows x 4 columns]\n",
            "(100, 4)\n"
          ]
        }
      ],
      "source": [
        "import pandas as pd\n",
        "# Assuming your CSV file is named 'california_housing_train.csv'\n",
        "# and located inside the 'sample_data' directory\n",
        "df = pd.read_csv('/content/placement - placement (3).csv')\n",
        "print(df)\n",
        "df.head()\n",
        "print(df.shape)\n",
        "\n",
        "\n"
      ]
    },
    {
      "cell_type": "code",
      "source": [
        "import pandas as pd\n",
        "from sklearn.model_selection import train_test_split\n",
        "from sklearn.linear_model import LogisticRegression\n",
        "from sklearn.metrics import accuracy_score\n",
        "\n",
        "\n",
        "df = pd.read_csv('/content/placement - placement.csv')\n",
        "\n",
        "\n",
        "X = df.iloc[:, :-1]\n",
        "Y = df.iloc[:, -1]\n",
        "\n",
        "\n",
        "X_train, X_test, y_train, y_test = train_test_split(X, Y, test_size=0.2, random_state=2)\n",
        "\n",
        "\n",
        "clf = LogisticRegression()\n",
        "\n",
        "\n",
        "clf.fit(X_train, y_train)\n",
        "\n",
        "\n",
        "y_pred = clf.predict(X_test)\n",
        "\n",
        "\n",
        "accuracy = accuracy_score(y_test, y_pred)\n",
        "\n",
        "print(f'Accuracy: {accuracy:.2f}')\n"
      ],
      "metadata": {
        "id": "yMa3s3cFEfjO"
      },
      "execution_count": null,
      "outputs": []
    }
  ]
}